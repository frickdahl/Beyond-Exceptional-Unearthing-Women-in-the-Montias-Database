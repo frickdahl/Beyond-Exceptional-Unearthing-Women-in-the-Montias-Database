{
 "cells": [
  {
   "cell_type": "code",
   "execution_count": 3,
   "id": "652344a3",
   "metadata": {},
   "outputs": [
    {
     "name": "stdout",
     "output_type": "stream",
     "text": [
      "2237\n",
      "5029\n"
     ]
    }
   ],
   "source": [
    "#Import necessary libraries \n",
    "import csv\n",
    "from operator import itemgetter\n",
    "import networkx as nx\n",
    "from networkx.algorithms import community\n",
    "\n",
    "#Import nodes and edges CSV files from computer\n",
    "with open('file location', 'r') as nodecsv: #when inputting csv file path, make sure to use \"/\" rather than \"\\\"\n",
    "    nodereader = csv.reader(nodecsv)\n",
    "    nodes = [n for n in nodereader][1:]\n",
    "\n",
    "node_names = [n[0] for n in nodes]\n",
    "\n",
    "with open('file location', 'r') as edgecsv:\n",
    "    edgereader = csv.reader(edgecsv)\n",
    "    edges = [tuple(e) for e in edgereader][1:]\n",
    "\n",
    "#The 'print' function interspersed throughout the code is useful for checking that the code is working. You can comment ('#') out or delete these lines of code.\n",
    "print(len(node_names))\n",
    "print(len(edges))"
   ]
  },
  {
   "cell_type": "code",
   "execution_count": 4,
   "id": "2b563def",
   "metadata": {},
   "outputs": [
    {
     "name": "stdout",
     "output_type": "stream",
     "text": [
      "Name: \n",
      "Type: Graph\n",
      "Number of nodes: 2238\n",
      "Number of edges: 4849\n",
      "Average degree:   4.3333\n"
     ]
    }
   ],
   "source": [
    "#Create the graph and add nodes and edges from the two CSV files\n",
    "G = nx.Graph()\n",
    "G.add_nodes_from(node_names)\n",
    "G.add_edges_from(edges)\n",
    "print(nx.info(G))\n"
   ]
  },
  {
   "cell_type": "code",
   "execution_count": null,
   "id": "41a16157",
   "metadata": {},
   "outputs": [],
   "source": [
    "#Create list of attributes based on columns in the nodes CSV file. These can be altered to suit your project's needs.\n",
    "hist_sig_dict = {}\n",
    "marital_dict = {}\n",
    "sex_dict = {}\n",
    "birth_dict = {}\n",
    "death_dict = {}\n",
    "date_app_dict = {}\n",
    "appraiser1_dict = {}\n",
    "appraiser2_dict = {}\n",
    "appraiser3_dict = {}\n",
    "notary_dict = {}\n",
    "inventory_dict = {}\n",
    "religion_dict = {}\n",
    "nationality_dict = {}\n",
    "number_items_dict = {}\n",
    "montias_inv_dict = {}\n",
    "unique_id_dict = {}\n",
    "montias_invno_dict = {}\n",
    "montias_invno2_dict = {}\n",
    "number_paintings_dict = {}\n",
    "portraits_dict = {}\n",
    "rembrandt_dict = {}\n",
    "mythology_dict = {}\n",
    "still_life_dict = {}\n",
    "tapestry_dict = {}\n",
    "rariteiten_dict = {}\n",
    "textiles_dict = {}\n",
    "rubens_dict = {}\n",
    "\n",
    "\n",
    "for node in nodes: \n",
    "    hist_sig_dict[node[0]] = node[1]\n",
    "    marital_dict[node[0]] = node [2]\n",
    "    sex_dict[node[0]] = node[3]\n",
    "    birth_dict[node[0]] = node[4]\n",
    "    death_dict[node[0]] = node[5]\n",
    "    date_app_dict[node[0]] = node[6]\n",
    "    appraiser1_dict[node[0]] = node[7]\n",
    "    appraiser2_dict[node[0]] = node[8]\n",
    "    appraiser3_dict[node[0]] = node[9]\n",
    "    notary_dict[node[0]] = node[10]\n",
    "    inventory_dict[node[0]] = node[11]\n",
    "    religion_dict[node[0]] = node[12]\n",
    "    nationality_dict[node[0]] = node[13]\n",
    "    number_items_dict[node[0]] = node[14]\n",
    "    montias_inv_dict[node[0]] = node[15]\n",
    "    montias_invno_dict[node[0]] = node[16]\n",
    "    montias_invno2_dict[node[0]] = node[17]\n",
    "    number_paintings_dict[node[0]] = node[18]\n",
    "    portraits_dict[node[0]] = node[19]\n",
    "    rembrandt_dict[node[0]] = node[20]\n",
    "    mythology_dict[node[0]] = node[21]\n",
    "    still_life_dict[node[0]] = node[22]\n",
    "    tapestry_dict[node[0]] = node[23]\n",
    "    rariteiten_dict[node[0]] = node[24]\n",
    "    textiles_dict[node[0]] = node[25]\n",
    "    rubens_dict[node[0]] = node[26]\n",
    "\n",
    "    \n",
    "nx.set_node_attributes(G, hist_sig_dict, 'historical_significance')\n",
    "nx.set_node_attributes(G, marital_dict, 'marital_status')\n",
    "nx.set_node_attributes(G, sex_dict, 'sex')\n",
    "nx.set_node_attributes(G, birth_dict, 'birth_year')\n",
    "nx.set_node_attributes(G, death_dict, 'death_year')\n",
    "nx.set_node_attributes(G, date_app_dict, 'date_app')\n",
    "nx.set_node_attributes(G, appraiser1_dict, 'appraiser1')\n",
    "nx.set_node_attributes(G, appraiser2_dict, 'appraiser2')\n",
    "nx.set_node_attributes(G, appraiser3_dict, 'appraiser3')\n",
    "nx.set_node_attributes(G, notary_dict, 'notary')\n",
    "nx.set_node_attributes(G, inventory_dict, 'inventory')\n",
    "nx.set_node_attributes(G, religion_dict, 'religion')\n",
    "nx.set_node_attributes(G, nationality_dict, 'nationality')\n",
    "nx.set_node_attributes(G, number_items_dict, 'number_of_items')                      \n",
    "nx.set_node_attributes(G, montias_inv_dict, 'montias_inventory')\n",
    "nx.set_node_attributes(G, montias_invno_dict, 'montias_invno')\n",
    "nx.set_node_attributes(G, montias_invno2_dict, 'montias_invno2')\n",
    "nx.set_node_attributes(G, number_paintings_dict, 'number_of_paintings')\n",
    "nx.set_node_attributes(G, portraits_dict, 'portraits')\n",
    "nx.set_node_attributes(G, rembrandt_dict, 'rembrandt')\n",
    "nx.set_node_attributes(G, mythology_dict, 'mythology')\n",
    "nx.set_node_attributes(G, still_life_dict, 'still_life')\n",
    "nx.set_node_attributes(G, tapestry_dict, 'tapestry')\n",
    "nx.set_node_attributes(G, rariteiten_dict, 'rariteiten')\n",
    "nx.set_node_attributes(G, textiles_dict, 'textiles')\n",
    "nx.set_node_attributes(G, rubens_dict, 'rubens')\n",
    "\n",
    "for n in G.nodes():\n",
    "    print(n, G.nodes[n]['sex']) \n",
    "#This allows for you to print the node name followed by a selected attribute, in this case,\"sex\"\n",
    "#This is the end of the basic foundational code you will need to analyze your data. The remainder of the code are examples of specific metrics you can include to learn more about your network.\n",
    "\n"
   ]
  },
  {
   "cell_type": "code",
   "execution_count": 13,
   "id": "f1ab75a2",
   "metadata": {},
   "outputs": [
    {
     "name": "stdout",
     "output_type": "stream",
     "text": [
      "Network density: 0.0019371181642080166\n"
     ]
    }
   ],
   "source": [
    "#This is the start of example metrics available in NetworkX. For additional metrics, see NetworkX's reference page.\n",
    "#Determine the density, or how compact the nodes in the network are to one another.\n",
    "density = nx.density(G)\n",
    "print(\"Network density:\", density)\n"
   ]
  },
  {
   "cell_type": "code",
   "execution_count": 15,
   "id": "e1141668",
   "metadata": {},
   "outputs": [],
   "source": [
    "#Centrality Measures\n",
    "#Determining a node's degree or influence in the network.\n",
    "degree_dict = dict(G.degree(G.nodes()))\n",
    "nx.set_node_attributes(G, degree_dict, 'degree')\n"
   ]
  },
  {
   "cell_type": "code",
   "execution_count": 16,
   "id": "2e1fe801",
   "metadata": {},
   "outputs": [],
   "source": [
    "sorted_degree = sorted(degree_dict.items(), key=itemgetter(1), reverse=True)\n"
   ]
  },
  {
   "cell_type": "code",
   "execution_count": null,
   "id": "4a04d40a",
   "metadata": {},
   "outputs": [],
   "source": [
    "#Sorts and lists the top 50 influencial nodes based on their number of connections in the network. The higher the number, the more connected the individual is. \n",
    "#Code for other centraility measures, including betweenness and eigenvector centrality, can be found on NetworkX's reference page.\n",
    "print(\"Top 50 nodes by degree:\")\n",
    "for d in sorted_degree[:50]:\n",
    "    print(d)"
   ]
  },
  {
   "cell_type": "code",
   "execution_count": 11,
   "id": "c723d8a5",
   "metadata": {},
   "outputs": [],
   "source": [
    "#Save graph file locally to be imported to Gephi or other data visualization softwares\n",
    "nx.write_gexf(G, \"MontiasTest.gexf\", version=\"1.2draft\")"
   ]
  }
 ],
 "metadata": {
  "kernelspec": {
   "display_name": "Python 3",
   "language": "python",
   "name": "python3"
  },
  "language_info": {
   "codemirror_mode": {
    "name": "ipython",
    "version": 3
   },
   "file_extension": ".py",
   "mimetype": "text/x-python",
   "name": "python",
   "nbconvert_exporter": "python",
   "pygments_lexer": "ipython3",
   "version": "3.8.8"
  }
 },
 "nbformat": 4,
 "nbformat_minor": 5
}
